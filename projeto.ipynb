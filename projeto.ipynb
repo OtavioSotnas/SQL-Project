{
 "cells": [
  {
   "cell_type": "markdown",
   "metadata": {},
   "source": [
    "<div style=\"background-color: gray; padding: 7px; text-align: center;\">\n",
    "    <h2>Análise Exploratória de Dados com Python e SQL</h2>\n",
    "</div>"
   ]
  },
  {
   "cell_type": "markdown",
   "metadata": {},
   "source": [
    "(breve descrição do que foi feito e do dataset)"
   ]
  },
  {
   "cell_type": "markdown",
   "metadata": {},
   "source": [
    "### Ferramentas:\n",
    "- Git \n",
    "- PandaSQL \n",
    "- SQLAlchemy \n",
    "- PostgreSQL \n",
    "- pgAdmin4\n",
    "\n",
    "### Referências:\n",
    "- https://pandas.pydata.org\n",
    "- https://www.postgresql.org\n",
    "- https://pypi.org/project/pandasql/\n",
    "- https://pypi.org/project/psycopg2/\n",
    "- https://docs.sqlalchemy.org/en/20/\n",
    "- https://learnsql.com/blog/how-to-import-csv-to-postgresql/"
   ]
  },
  {
   "cell_type": "markdown",
   "metadata": {},
   "source": [
    "---"
   ]
  },
  {
   "cell_type": "markdown",
   "metadata": {},
   "source": [
    "#\n",
    "<div style=\"background-color: gray; padding: 7px;\">\n",
    "    <h2> 1. Construção do Banco de Dados no PostgreSQL \n",
    "</div>"
   ]
  },
  {
   "cell_type": "markdown",
   "metadata": {},
   "source": [
    "Para permitir o uso do banco de dados escolhido de forma relacional utilizando SQL, primeiro devemos criá-lo em um Sistema de Gerenciamento de Banco de Dados (SGBD). \n",
    "\n",
    "Nesse projeto, utilizamos o `PosgreSQL` e sua interace `pgAdmin`. Esse SGBD é amplamente utilizado por ser de código aberto, confiável e permitir escalabilidade.\n",
    "\n",
    "Abaixo, disponibilizamos os comandos necessários para criar as tabelas utilizadas aqui, com as definições de `tipos de dados dos registros` e das `PRIMARY-KEYS` e `FOREIGN-KEYS`.\n",
    "\n",
    "Uma vez definidas no sistema, podemos importar os arquivos .csv para cada tabela por meio da interface do pgAdmin."
   ]
  },
  {
   "cell_type": "markdown",
   "metadata": {},
   "source": [
    "### Comandos em SQL para criação das tabelas"
   ]
  },
  {
   "cell_type": "markdown",
   "metadata": {},
   "source": [
    "``` \n",
    "CREATE TABLE categorias \n",
    "( \n",
    " id_categoria INTEGER PRIMARY KEY,  -- Identificador único para cada categoria\n",
    " nome_categoria VARCHAR(255)  -- Nome da categoria\n",
    ");\n",
    "\n",
    "CREATE TABLE clientes \n",
    "( \n",
    " id_cliente INTEGER PRIMARY KEY,  -- Identificador único para cada cliente\n",
    " nome_cliente VARCHAR(255),  -- Nome do cliente\n",
    " idade INTEGER,  -- Idade do cliente\n",
    " endereco VARCHAR(255)  -- Endereço do cliente\n",
    ");\n",
    "\n",
    "CREATE TABLE fornecedores \n",
    "( \n",
    " id_fornecedor INTEGER PRIMARY KEY,  -- Identificador único para cada fornecedor\n",
    " nome VARCHAR(255),  -- Nome do fornecedor\n",
    " contato VARCHAR(255)  -- Contato do fornecedor (pode ser telefone, email, etc.)\n",
    ");\n",
    "\n",
    "CREATE TABLE marcas \n",
    "( \n",
    " id_marca INTEGER PRIMARY KEY,  -- Identificador único para cada marca\n",
    " nome VARCHAR(255)  -- Nome da marca\n",
    ");\n",
    "\n",
    "CREATE TABLE produtos \n",
    "( \n",
    " id_produto INTEGER PRIMARY KEY,  -- Identificador único para cada produto\n",
    " nome_produto VARCHAR(255),  -- Nome do produto\n",
    " preco REAL,  -- Preço do produto\n",
    " categoria_id INTEGER,  -- Referência à categoria do produto\n",
    " marca_id INTEGER,  -- Referência à marca do produto\n",
    " fornecedor_id INTEGER,  -- Referência ao fornecedor do produto\n",
    " data_estoque DATE,  -- Data de entrada do produto no estoque\n",
    " status VARCHAR(255),  -- Status atual do produto (por exemplo, disponível, esgotado)\n",
    " FOREIGN KEY(categoria_id) REFERENCES categorias (id_categoria),  -- Chave estrangeira para a tabela Categorias\n",
    " FOREIGN KEY(marca_id) REFERENCES marcas (id_marca),  -- Chave estrangeira para a tabela Marcas\n",
    " FOREIGN KEY(fornecedor_id) REFERENCES fornecedores (id_fornecedor)  -- Chave estrangeira para a tabela Fornecedores\n",
    ");\n",
    "\n",
    "CREATE TABLE vendas \n",
    "( \n",
    " id_venda INTEGER PRIMARY KEY,  -- Identificador único para cada venda\n",
    " data_venda DATE,  -- Data em que a venda foi realizada\n",
    " total_venda REAL,  -- Valor total da venda\n",
    " cliente_id INTEGER,  -- Referência ao cliente que fez a compra\n",
    " FOREIGN KEY(cliente_id) REFERENCES clientes (id_cliente)  -- Chave estrangeira para a tabela Clientes\n",
    ");\n",
    "\n",
    "CREATE TABLE itens_venda \n",
    "( \n",
    " venda_id INTEGER,  -- Referência à venda\n",
    " produto_id INTEGER,  -- Referência ao produto vendido\n",
    " PRIMARY KEY (venda_id, produto_id),  -- Chave primária composta pelas referências à venda e ao produto\n",
    " FOREIGN KEY(venda_id) REFERENCES vendas (id_venda),  -- Chave estrangeira para a tabela Vendas\n",
    " FOREIGN KEY(produto_id) REFERENCES produtos (id_produto)  -- Chave estrangeira para a tabela Produtos\n",
    ");\n",
    "```"
   ]
  },
  {
   "cell_type": "markdown",
   "metadata": {},
   "source": [
    "---"
   ]
  },
  {
   "cell_type": "markdown",
   "metadata": {},
   "source": [
    "#\n",
    "<div style=\"background-color: gray; padding: 7px;\">\n",
    "    <h2> 2. Conexão do BD com o Jupyter Notebook\n",
    "</div>"
   ]
  },
  {
   "cell_type": "code",
   "execution_count": 127,
   "metadata": {},
   "outputs": [],
   "source": [
    "# Importando Bibliotecas\n",
    "\n",
    "import numpy as np\n",
    "import matplotlib.pyplot as plt\n",
    "import pandas as pd \n",
    "import seaborn as sns\n",
    "from sqlalchemy import create_engine"
   ]
  },
  {
   "cell_type": "code",
   "execution_count": 125,
   "metadata": {},
   "outputs": [],
   "source": [
    "# Configurando Conexão com o Banco de Dados no PostgreSQL\n",
    "\n",
    "USER = \"postgres\"   # Usuário cadastrado\n",
    "SENHA = \"postgres\"  # Senha\n",
    "HOST = \"localhost\"  # Host do servidor PostgreSQL\n",
    "DATABASE = \"black\"  # Nome do banco de dados\n",
    "\n",
    "engine = create_engine(f\"postgresql+psycopg2://{USER}:{SENHA}@{HOST}/{DATABASE}\")"
   ]
  },
  {
   "cell_type": "markdown",
   "metadata": {},
   "source": [
    "---"
   ]
  },
  {
   "cell_type": "markdown",
   "metadata": {},
   "source": [
    "#\n",
    "<div style=\"background-color: gray; padding: 10px;\">\n",
    "    <h2> 3. Exploração Inicial dos Dados\n",
    "</div>"
   ]
  },
  {
   "cell_type": "markdown",
   "metadata": {},
   "source": [
    "Realizamos uma análise inicial para cada tabela contida no BD buscando entender os tipos de informações armazenadas. Para isso, utilizamos tanto queries do SQL quanto funções da biblioteca Pandas."
   ]
  },
  {
   "cell_type": "markdown",
   "metadata": {},
   "source": [
    "### Tabela categorias"
   ]
  },
  {
   "cell_type": "code",
   "execution_count": 3,
   "metadata": {},
   "outputs": [
    {
     "name": "stdout",
     "output_type": "stream",
     "text": [
      "Shape da tabela categorias (5, 2)\n"
     ]
    },
    {
     "data": {
      "text/html": [
       "<div>\n",
       "<style scoped>\n",
       "    .dataframe tbody tr th:only-of-type {\n",
       "        vertical-align: middle;\n",
       "    }\n",
       "\n",
       "    .dataframe tbody tr th {\n",
       "        vertical-align: top;\n",
       "    }\n",
       "\n",
       "    .dataframe thead th {\n",
       "        text-align: right;\n",
       "    }\n",
       "</style>\n",
       "<table border=\"1\" class=\"dataframe\">\n",
       "  <thead>\n",
       "    <tr style=\"text-align: right;\">\n",
       "      <th></th>\n",
       "      <th>id_categoria</th>\n",
       "      <th>nome_categoria</th>\n",
       "    </tr>\n",
       "  </thead>\n",
       "  <tbody>\n",
       "    <tr>\n",
       "      <th>0</th>\n",
       "      <td>1</td>\n",
       "      <td>Eletrônicos</td>\n",
       "    </tr>\n",
       "    <tr>\n",
       "      <th>1</th>\n",
       "      <td>2</td>\n",
       "      <td>Vestuário</td>\n",
       "    </tr>\n",
       "    <tr>\n",
       "      <th>2</th>\n",
       "      <td>3</td>\n",
       "      <td>Alimentos</td>\n",
       "    </tr>\n",
       "    <tr>\n",
       "      <th>3</th>\n",
       "      <td>4</td>\n",
       "      <td>Livros</td>\n",
       "    </tr>\n",
       "    <tr>\n",
       "      <th>4</th>\n",
       "      <td>5</td>\n",
       "      <td>Esportes</td>\n",
       "    </tr>\n",
       "  </tbody>\n",
       "</table>\n",
       "</div>"
      ],
      "text/plain": [
       "   id_categoria nome_categoria\n",
       "0             1    Eletrônicos\n",
       "1             2      Vestuário\n",
       "2             3      Alimentos\n",
       "3             4         Livros\n",
       "4             5       Esportes"
      ]
     },
     "execution_count": 3,
     "metadata": {},
     "output_type": "execute_result"
    }
   ],
   "source": [
    "query = \"\"\"\n",
    "SELECT * FROM categorias\n",
    "\"\"\"\n",
    "\n",
    "df = pd.read_sql_query(query, con = engine)\n",
    "print(f'Shape da tabela categorias {df.shape}')\n",
    "df"
   ]
  },
  {
   "cell_type": "markdown",
   "metadata": {},
   "source": [
    "Essa é uma tabela dimensão que armazena atributos das categorias de produtos desse negócio. O `id_categoria`, que é a `PRIMARY-KEY`, é o identificador único do tipo ``Int`` para cada categoria distinta presente, cujos nomes são representados por `nome_categoria` do tipo ``Object``.\n",
    "\n",
    "Com o `df.shape` sabemos que essa tabela tem 5 linhas e 2 colunas.\n",
    "\n",
    "Observamos que há somente 5 categorias: Eletrônicos, Vestuário, Alimentos, Livros e Esportes."
   ]
  },
  {
   "cell_type": "markdown",
   "metadata": {},
   "source": [
    "Utilizando o comando `DataFrame.info()` da biblioteca `pandas`, verificamos os tipos de dados de cada coluna da tabela convertida em dataframe."
   ]
  },
  {
   "cell_type": "code",
   "execution_count": 4,
   "metadata": {},
   "outputs": [
    {
     "name": "stdout",
     "output_type": "stream",
     "text": [
      "<class 'pandas.core.frame.DataFrame'>\n",
      "RangeIndex: 5 entries, 0 to 4\n",
      "Data columns (total 2 columns):\n",
      " #   Column          Non-Null Count  Dtype \n",
      "---  ------          --------------  ----- \n",
      " 0   id_categoria    5 non-null      int64 \n",
      " 1   nome_categoria  5 non-null      object\n",
      "dtypes: int64(1), object(1)\n",
      "memory usage: 212.0+ bytes\n"
     ]
    }
   ],
   "source": [
    "df.info()"
   ]
  },
  {
   "cell_type": "markdown",
   "metadata": {},
   "source": [
    "Também podemos usar o comando `DataFrame.isnull().sum()` para verificar se temos dados faltantes. \n",
    "\n",
    "Nessa tabela, não há dados faltantes."
   ]
  },
  {
   "cell_type": "code",
   "execution_count": 5,
   "metadata": {},
   "outputs": [
    {
     "data": {
      "text/plain": [
       "id_categoria      0\n",
       "nome_categoria    0\n",
       "dtype: int64"
      ]
     },
     "execution_count": 5,
     "metadata": {},
     "output_type": "execute_result"
    }
   ],
   "source": [
    "df.isnull().sum()"
   ]
  },
  {
   "cell_type": "markdown",
   "metadata": {},
   "source": [
    "---"
   ]
  },
  {
   "cell_type": "markdown",
   "metadata": {},
   "source": [
    "### Tabela clientes"
   ]
  },
  {
   "cell_type": "code",
   "execution_count": 6,
   "metadata": {},
   "outputs": [
    {
     "name": "stdout",
     "output_type": "stream",
     "text": [
      "Shape da tabela clientes (10000, 4)\n"
     ]
    },
    {
     "data": {
      "text/html": [
       "<div>\n",
       "<style scoped>\n",
       "    .dataframe tbody tr th:only-of-type {\n",
       "        vertical-align: middle;\n",
       "    }\n",
       "\n",
       "    .dataframe tbody tr th {\n",
       "        vertical-align: top;\n",
       "    }\n",
       "\n",
       "    .dataframe thead th {\n",
       "        text-align: right;\n",
       "    }\n",
       "</style>\n",
       "<table border=\"1\" class=\"dataframe\">\n",
       "  <thead>\n",
       "    <tr style=\"text-align: right;\">\n",
       "      <th></th>\n",
       "      <th>id_cliente</th>\n",
       "      <th>nome_cliente</th>\n",
       "      <th>idade</th>\n",
       "      <th>endereco</th>\n",
       "    </tr>\n",
       "  </thead>\n",
       "  <tbody>\n",
       "    <tr>\n",
       "      <th>0</th>\n",
       "      <td>1</td>\n",
       "      <td>Carla</td>\n",
       "      <td>50</td>\n",
       "      <td>PR</td>\n",
       "    </tr>\n",
       "    <tr>\n",
       "      <th>1</th>\n",
       "      <td>2</td>\n",
       "      <td>Felipe</td>\n",
       "      <td>36</td>\n",
       "      <td>RJ</td>\n",
       "    </tr>\n",
       "    <tr>\n",
       "      <th>2</th>\n",
       "      <td>3</td>\n",
       "      <td>Elena</td>\n",
       "      <td>42</td>\n",
       "      <td>DF</td>\n",
       "    </tr>\n",
       "    <tr>\n",
       "      <th>3</th>\n",
       "      <td>4</td>\n",
       "      <td>Alice</td>\n",
       "      <td>29</td>\n",
       "      <td>PA</td>\n",
       "    </tr>\n",
       "    <tr>\n",
       "      <th>4</th>\n",
       "      <td>5</td>\n",
       "      <td>Alice</td>\n",
       "      <td>44</td>\n",
       "      <td>MA</td>\n",
       "    </tr>\n",
       "  </tbody>\n",
       "</table>\n",
       "</div>"
      ],
      "text/plain": [
       "   id_cliente nome_cliente  idade endereco\n",
       "0           1        Carla     50       PR\n",
       "1           2       Felipe     36       RJ\n",
       "2           3        Elena     42       DF\n",
       "3           4        Alice     29       PA\n",
       "4           5        Alice     44       MA"
      ]
     },
     "execution_count": 6,
     "metadata": {},
     "output_type": "execute_result"
    }
   ],
   "source": [
    "query = \"\"\"\n",
    "SELECT * FROM clientes\n",
    "\"\"\"\n",
    "\n",
    "df = pd.read_sql_query(query, con = engine)\n",
    "print(f'Shape da tabela clientes {df.shape}')\n",
    "df.head()"
   ]
  },
  {
   "cell_type": "markdown",
   "metadata": {},
   "source": [
    "A tabela clientes contém os atributos de nome, idade e endereço de cada cliente desse negócio, sendo `id_cliente` a `PRIMARY KEY`.\n",
    "\n",
    "Aqui, temos 10.000 linhas e 4 colunas, cujos tipos de dados podemos observar a seguir:"
   ]
  },
  {
   "cell_type": "code",
   "execution_count": 7,
   "metadata": {},
   "outputs": [
    {
     "name": "stdout",
     "output_type": "stream",
     "text": [
      "<class 'pandas.core.frame.DataFrame'>\n",
      "RangeIndex: 10000 entries, 0 to 9999\n",
      "Data columns (total 4 columns):\n",
      " #   Column        Non-Null Count  Dtype \n",
      "---  ------        --------------  ----- \n",
      " 0   id_cliente    10000 non-null  int64 \n",
      " 1   nome_cliente  10000 non-null  object\n",
      " 2   idade         10000 non-null  int64 \n",
      " 3   endereco      10000 non-null  object\n",
      "dtypes: int64(2), object(2)\n",
      "memory usage: 312.6+ KB\n"
     ]
    }
   ],
   "source": [
    "df.info()"
   ]
  },
  {
   "cell_type": "markdown",
   "metadata": {},
   "source": [
    "Nesta tabela não temos dados faltantes."
   ]
  },
  {
   "cell_type": "code",
   "execution_count": 8,
   "metadata": {},
   "outputs": [
    {
     "data": {
      "text/plain": [
       "id_cliente      0\n",
       "nome_cliente    0\n",
       "idade           0\n",
       "endereco        0\n",
       "dtype: int64"
      ]
     },
     "execution_count": 8,
     "metadata": {},
     "output_type": "execute_result"
    }
   ],
   "source": [
    "df.isnull().sum()"
   ]
  },
  {
   "cell_type": "markdown",
   "metadata": {},
   "source": [
    "---"
   ]
  },
  {
   "cell_type": "markdown",
   "metadata": {},
   "source": [
    "### Tabela fornecedores"
   ]
  },
  {
   "cell_type": "code",
   "execution_count": 9,
   "metadata": {},
   "outputs": [
    {
     "name": "stdout",
     "output_type": "stream",
     "text": [
      "Shape da tabela fornecedores (10, 3)\n"
     ]
    },
    {
     "data": {
      "text/html": [
       "<div>\n",
       "<style scoped>\n",
       "    .dataframe tbody tr th:only-of-type {\n",
       "        vertical-align: middle;\n",
       "    }\n",
       "\n",
       "    .dataframe tbody tr th {\n",
       "        vertical-align: top;\n",
       "    }\n",
       "\n",
       "    .dataframe thead th {\n",
       "        text-align: right;\n",
       "    }\n",
       "</style>\n",
       "<table border=\"1\" class=\"dataframe\">\n",
       "  <thead>\n",
       "    <tr style=\"text-align: right;\">\n",
       "      <th></th>\n",
       "      <th>id_fornecedor</th>\n",
       "      <th>nome</th>\n",
       "      <th>contato</th>\n",
       "    </tr>\n",
       "  </thead>\n",
       "  <tbody>\n",
       "    <tr>\n",
       "      <th>0</th>\n",
       "      <td>1</td>\n",
       "      <td>AstroSupply</td>\n",
       "      <td>contato@astrosupply.com</td>\n",
       "    </tr>\n",
       "    <tr>\n",
       "      <th>1</th>\n",
       "      <td>2</td>\n",
       "      <td>HorizonDistributors</td>\n",
       "      <td>contato@horizondistributors.com</td>\n",
       "    </tr>\n",
       "    <tr>\n",
       "      <th>2</th>\n",
       "      <td>3</td>\n",
       "      <td>EchoLogistics</td>\n",
       "      <td>contato@echologistics.com</td>\n",
       "    </tr>\n",
       "    <tr>\n",
       "      <th>3</th>\n",
       "      <td>4</td>\n",
       "      <td>CosmicConnections</td>\n",
       "      <td>contato@cosmicconnections.com</td>\n",
       "    </tr>\n",
       "    <tr>\n",
       "      <th>4</th>\n",
       "      <td>5</td>\n",
       "      <td>TerraTrade</td>\n",
       "      <td>contato@terratrade.com</td>\n",
       "    </tr>\n",
       "  </tbody>\n",
       "</table>\n",
       "</div>"
      ],
      "text/plain": [
       "   id_fornecedor                 nome                          contato\n",
       "0              1          AstroSupply          contato@astrosupply.com\n",
       "1              2  HorizonDistributors  contato@horizondistributors.com\n",
       "2              3        EchoLogistics        contato@echologistics.com\n",
       "3              4    CosmicConnections    contato@cosmicconnections.com\n",
       "4              5           TerraTrade           contato@terratrade.com"
      ]
     },
     "execution_count": 9,
     "metadata": {},
     "output_type": "execute_result"
    }
   ],
   "source": [
    "query = \"\"\"\n",
    "SELECT * FROM fornecedores\n",
    "\"\"\"\n",
    "\n",
    "df = pd.read_sql_query(query, con = engine)\n",
    "print(f'Shape da tabela fornecedores {df.shape}')\n",
    "df.head()"
   ]
  },
  {
   "cell_type": "markdown",
   "metadata": {},
   "source": [
    "Essa tabela representa os fornecedores, identificados pela `PRIMARY KEY` em `id_fornecedor` e com informações de nome e contato para cada um deles. \n",
    "\n",
    "Pelo tamanho dessa, vemos que há 10 fornecedores presentes."
   ]
  },
  {
   "cell_type": "code",
   "execution_count": 10,
   "metadata": {},
   "outputs": [
    {
     "name": "stdout",
     "output_type": "stream",
     "text": [
      "<class 'pandas.core.frame.DataFrame'>\n",
      "RangeIndex: 10 entries, 0 to 9\n",
      "Data columns (total 3 columns):\n",
      " #   Column         Non-Null Count  Dtype \n",
      "---  ------         --------------  ----- \n",
      " 0   id_fornecedor  10 non-null     int64 \n",
      " 1   nome           10 non-null     object\n",
      " 2   contato        10 non-null     object\n",
      "dtypes: int64(1), object(2)\n",
      "memory usage: 372.0+ bytes\n"
     ]
    }
   ],
   "source": [
    "df.info()"
   ]
  },
  {
   "cell_type": "markdown",
   "metadata": {},
   "source": [
    "Também não possuimos dados faltantes nessa tabela."
   ]
  },
  {
   "cell_type": "code",
   "execution_count": 11,
   "metadata": {},
   "outputs": [
    {
     "data": {
      "text/plain": [
       "id_fornecedor    0\n",
       "nome             0\n",
       "contato          0\n",
       "dtype: int64"
      ]
     },
     "execution_count": 11,
     "metadata": {},
     "output_type": "execute_result"
    }
   ],
   "source": [
    "df.isnull().sum()"
   ]
  },
  {
   "cell_type": "markdown",
   "metadata": {},
   "source": [
    "---"
   ]
  },
  {
   "cell_type": "markdown",
   "metadata": {},
   "source": [
    "### Tabela marcas"
   ]
  },
  {
   "cell_type": "code",
   "execution_count": 12,
   "metadata": {},
   "outputs": [
    {
     "name": "stdout",
     "output_type": "stream",
     "text": [
      "Shape da tabela marcas (10, 2)\n"
     ]
    },
    {
     "data": {
      "text/html": [
       "<div>\n",
       "<style scoped>\n",
       "    .dataframe tbody tr th:only-of-type {\n",
       "        vertical-align: middle;\n",
       "    }\n",
       "\n",
       "    .dataframe tbody tr th {\n",
       "        vertical-align: top;\n",
       "    }\n",
       "\n",
       "    .dataframe thead th {\n",
       "        text-align: right;\n",
       "    }\n",
       "</style>\n",
       "<table border=\"1\" class=\"dataframe\">\n",
       "  <thead>\n",
       "    <tr style=\"text-align: right;\">\n",
       "      <th></th>\n",
       "      <th>id_marca</th>\n",
       "      <th>nome</th>\n",
       "    </tr>\n",
       "  </thead>\n",
       "  <tbody>\n",
       "    <tr>\n",
       "      <th>0</th>\n",
       "      <td>1</td>\n",
       "      <td>BluePeak</td>\n",
       "    </tr>\n",
       "    <tr>\n",
       "      <th>1</th>\n",
       "      <td>2</td>\n",
       "      <td>ZenithWave</td>\n",
       "    </tr>\n",
       "    <tr>\n",
       "      <th>2</th>\n",
       "      <td>3</td>\n",
       "      <td>SolarFlare</td>\n",
       "    </tr>\n",
       "    <tr>\n",
       "      <th>3</th>\n",
       "      <td>4</td>\n",
       "      <td>EchoBloom</td>\n",
       "    </tr>\n",
       "    <tr>\n",
       "      <th>4</th>\n",
       "      <td>5</td>\n",
       "      <td>CrystalCrest</td>\n",
       "    </tr>\n",
       "    <tr>\n",
       "      <th>5</th>\n",
       "      <td>6</td>\n",
       "      <td>NovaSphere</td>\n",
       "    </tr>\n",
       "    <tr>\n",
       "      <th>6</th>\n",
       "      <td>7</td>\n",
       "      <td>GreenPulse</td>\n",
       "    </tr>\n",
       "    <tr>\n",
       "      <th>7</th>\n",
       "      <td>8</td>\n",
       "      <td>SilverStream</td>\n",
       "    </tr>\n",
       "    <tr>\n",
       "      <th>8</th>\n",
       "      <td>9</td>\n",
       "      <td>AmberField</td>\n",
       "    </tr>\n",
       "    <tr>\n",
       "      <th>9</th>\n",
       "      <td>10</td>\n",
       "      <td>InfinityAura</td>\n",
       "    </tr>\n",
       "  </tbody>\n",
       "</table>\n",
       "</div>"
      ],
      "text/plain": [
       "   id_marca          nome\n",
       "0         1      BluePeak\n",
       "1         2    ZenithWave\n",
       "2         3    SolarFlare\n",
       "3         4     EchoBloom\n",
       "4         5  CrystalCrest\n",
       "5         6    NovaSphere\n",
       "6         7    GreenPulse\n",
       "7         8  SilverStream\n",
       "8         9    AmberField\n",
       "9        10  InfinityAura"
      ]
     },
     "execution_count": 12,
     "metadata": {},
     "output_type": "execute_result"
    }
   ],
   "source": [
    "query = \"\"\"\n",
    "SELECT * FROM marcas\n",
    "\"\"\"\n",
    "\n",
    "df = pd.read_sql_query(query, con = engine)\n",
    "print(f'Shape da tabela marcas {df.shape}')\n",
    "df"
   ]
  },
  {
   "cell_type": "markdown",
   "metadata": {},
   "source": [
    "Essa tabela representa as marcas dos produtos, identificados pela `PRIMARY KEY` em `id_marca` com informações de nome.\n",
    "\n",
    "Pelo tamanho, vemos que há 10 marcas de produtos distintas."
   ]
  },
  {
   "cell_type": "code",
   "execution_count": 13,
   "metadata": {},
   "outputs": [
    {
     "name": "stdout",
     "output_type": "stream",
     "text": [
      "<class 'pandas.core.frame.DataFrame'>\n",
      "RangeIndex: 10 entries, 0 to 9\n",
      "Data columns (total 2 columns):\n",
      " #   Column    Non-Null Count  Dtype \n",
      "---  ------    --------------  ----- \n",
      " 0   id_marca  10 non-null     int64 \n",
      " 1   nome      10 non-null     object\n",
      "dtypes: int64(1), object(1)\n",
      "memory usage: 292.0+ bytes\n"
     ]
    }
   ],
   "source": [
    "df.info()"
   ]
  },
  {
   "cell_type": "markdown",
   "metadata": {},
   "source": [
    "Também não possuimos dados faltantes nessa tabela."
   ]
  },
  {
   "cell_type": "code",
   "execution_count": 14,
   "metadata": {},
   "outputs": [
    {
     "data": {
      "text/plain": [
       "id_marca    0\n",
       "nome        0\n",
       "dtype: int64"
      ]
     },
     "execution_count": 14,
     "metadata": {},
     "output_type": "execute_result"
    }
   ],
   "source": [
    "df.isnull().sum()"
   ]
  },
  {
   "cell_type": "markdown",
   "metadata": {},
   "source": [
    "---"
   ]
  },
  {
   "cell_type": "markdown",
   "metadata": {},
   "source": [
    "### Tabela produtos"
   ]
  },
  {
   "cell_type": "code",
   "execution_count": 15,
   "metadata": {},
   "outputs": [
    {
     "data": {
      "text/html": [
       "<div>\n",
       "<style scoped>\n",
       "    .dataframe tbody tr th:only-of-type {\n",
       "        vertical-align: middle;\n",
       "    }\n",
       "\n",
       "    .dataframe tbody tr th {\n",
       "        vertical-align: top;\n",
       "    }\n",
       "\n",
       "    .dataframe thead th {\n",
       "        text-align: right;\n",
       "    }\n",
       "</style>\n",
       "<table border=\"1\" class=\"dataframe\">\n",
       "  <thead>\n",
       "    <tr style=\"text-align: right;\">\n",
       "      <th></th>\n",
       "      <th>id_produto</th>\n",
       "      <th>nome_produto</th>\n",
       "      <th>preco</th>\n",
       "      <th>categoria_id</th>\n",
       "      <th>marca_id</th>\n",
       "      <th>fornecedor_id</th>\n",
       "      <th>data_estoque</th>\n",
       "      <th>status</th>\n",
       "    </tr>\n",
       "  </thead>\n",
       "  <tbody>\n",
       "    <tr>\n",
       "      <th>9995</th>\n",
       "      <td>9996</td>\n",
       "      <td>Livro de Ficção</td>\n",
       "      <td>1567.81</td>\n",
       "      <td>5</td>\n",
       "      <td>9</td>\n",
       "      <td>1</td>\n",
       "      <td>2021-12-25</td>\n",
       "      <td>Vendido</td>\n",
       "    </tr>\n",
       "    <tr>\n",
       "      <th>9996</th>\n",
       "      <td>9997</td>\n",
       "      <td>Celular</td>\n",
       "      <td>1690.56</td>\n",
       "      <td>5</td>\n",
       "      <td>10</td>\n",
       "      <td>9</td>\n",
       "      <td>2020-10-19</td>\n",
       "      <td>Vendido</td>\n",
       "    </tr>\n",
       "    <tr>\n",
       "      <th>9997</th>\n",
       "      <td>9998</td>\n",
       "      <td>Celular</td>\n",
       "      <td>1278.29</td>\n",
       "      <td>2</td>\n",
       "      <td>9</td>\n",
       "      <td>5</td>\n",
       "      <td>2022-04-07</td>\n",
       "      <td>Vendido</td>\n",
       "    </tr>\n",
       "    <tr>\n",
       "      <th>9998</th>\n",
       "      <td>9999</td>\n",
       "      <td>Livro de Ficção</td>\n",
       "      <td>521.94</td>\n",
       "      <td>1</td>\n",
       "      <td>2</td>\n",
       "      <td>7</td>\n",
       "      <td>2021-04-23</td>\n",
       "      <td>Estoque</td>\n",
       "    </tr>\n",
       "    <tr>\n",
       "      <th>9999</th>\n",
       "      <td>10000</td>\n",
       "      <td>Livro de Ficção</td>\n",
       "      <td>1075.08</td>\n",
       "      <td>5</td>\n",
       "      <td>7</td>\n",
       "      <td>6</td>\n",
       "      <td>2023-08-15</td>\n",
       "      <td>Vendido</td>\n",
       "    </tr>\n",
       "  </tbody>\n",
       "</table>\n",
       "</div>"
      ],
      "text/plain": [
       "      id_produto     nome_produto    preco  categoria_id  marca_id  \\\n",
       "9995        9996  Livro de Ficção  1567.81             5         9   \n",
       "9996        9997          Celular  1690.56             5        10   \n",
       "9997        9998          Celular  1278.29             2         9   \n",
       "9998        9999  Livro de Ficção   521.94             1         2   \n",
       "9999       10000  Livro de Ficção  1075.08             5         7   \n",
       "\n",
       "      fornecedor_id data_estoque   status  \n",
       "9995              1   2021-12-25  Vendido  \n",
       "9996              9   2020-10-19  Vendido  \n",
       "9997              5   2022-04-07  Vendido  \n",
       "9998              7   2021-04-23  Estoque  \n",
       "9999              6   2023-08-15  Vendido  "
      ]
     },
     "execution_count": 15,
     "metadata": {},
     "output_type": "execute_result"
    }
   ],
   "source": [
    "query = \"\"\"\n",
    "SELECT * FROM produtos\n",
    "\"\"\"\n",
    "\n",
    "df = pd.read_sql_query(query, con = engine)\n",
    "df.tail(5)"
   ]
  },
  {
   "cell_type": "markdown",
   "metadata": {},
   "source": [
    "Essa tabela representa os produtos, identificados pela `PRIMARY-KEY` em `id_produto` e informações de nome em ``nome_produto``\n",
    "\n",
    " O ``preço`` do produto é representado por uma coluna do tipo ``Float``. \n",
    "\n",
    "Além disso, temos ``categoria_id``, ``categoria_id`` e ``categoria_id``, que são ``FOREIGN-KEYS`` referentes a outras tabelas. \n",
    "\n",
    "A coluna ``data_estoque`` indica a data em que o produto foi adicionado ao estoque e a coluna ``status`` indica se um produto foi vendido ou ainda está em estoque, ambas do tipo ``Object``."
   ]
  },
  {
   "cell_type": "code",
   "execution_count": 16,
   "metadata": {},
   "outputs": [
    {
     "name": "stdout",
     "output_type": "stream",
     "text": [
      "<class 'pandas.core.frame.DataFrame'>\n",
      "RangeIndex: 10000 entries, 0 to 9999\n",
      "Data columns (total 8 columns):\n",
      " #   Column         Non-Null Count  Dtype  \n",
      "---  ------         --------------  -----  \n",
      " 0   id_produto     10000 non-null  int64  \n",
      " 1   nome_produto   10000 non-null  object \n",
      " 2   preco          10000 non-null  float64\n",
      " 3   categoria_id   10000 non-null  int64  \n",
      " 4   marca_id       10000 non-null  int64  \n",
      " 5   fornecedor_id  10000 non-null  int64  \n",
      " 6   data_estoque   10000 non-null  object \n",
      " 7   status         10000 non-null  object \n",
      "dtypes: float64(1), int64(4), object(3)\n",
      "memory usage: 625.1+ KB\n"
     ]
    }
   ],
   "source": [
    "df.info()"
   ]
  },
  {
   "cell_type": "markdown",
   "metadata": {},
   "source": [
    "Não possuimos dados faltantes na tabela de produtos. "
   ]
  },
  {
   "cell_type": "code",
   "execution_count": 17,
   "metadata": {},
   "outputs": [
    {
     "data": {
      "text/plain": [
       "id_produto       0\n",
       "nome_produto     0\n",
       "preco            0\n",
       "categoria_id     0\n",
       "marca_id         0\n",
       "fornecedor_id    0\n",
       "data_estoque     0\n",
       "status           0\n",
       "dtype: int64"
      ]
     },
     "execution_count": 17,
     "metadata": {},
     "output_type": "execute_result"
    }
   ],
   "source": [
    "df.isnull().sum()"
   ]
  },
  {
   "cell_type": "markdown",
   "metadata": {},
   "source": [
    "---"
   ]
  },
  {
   "cell_type": "markdown",
   "metadata": {},
   "source": [
    "### Tabela vendas"
   ]
  },
  {
   "cell_type": "code",
   "execution_count": 18,
   "metadata": {},
   "outputs": [
    {
     "data": {
      "text/html": [
       "<div>\n",
       "<style scoped>\n",
       "    .dataframe tbody tr th:only-of-type {\n",
       "        vertical-align: middle;\n",
       "    }\n",
       "\n",
       "    .dataframe tbody tr th {\n",
       "        vertical-align: top;\n",
       "    }\n",
       "\n",
       "    .dataframe thead th {\n",
       "        text-align: right;\n",
       "    }\n",
       "</style>\n",
       "<table border=\"1\" class=\"dataframe\">\n",
       "  <thead>\n",
       "    <tr style=\"text-align: right;\">\n",
       "      <th></th>\n",
       "      <th>id_venda</th>\n",
       "      <th>data_venda</th>\n",
       "      <th>total_venda</th>\n",
       "      <th>cliente_id</th>\n",
       "    </tr>\n",
       "  </thead>\n",
       "  <tbody>\n",
       "    <tr>\n",
       "      <th>0</th>\n",
       "      <td>1</td>\n",
       "      <td>2021-05-01</td>\n",
       "      <td>167.21</td>\n",
       "      <td>8112</td>\n",
       "    </tr>\n",
       "    <tr>\n",
       "      <th>1</th>\n",
       "      <td>2</td>\n",
       "      <td>2023-01-12</td>\n",
       "      <td>1315.33</td>\n",
       "      <td>76</td>\n",
       "    </tr>\n",
       "    <tr>\n",
       "      <th>2</th>\n",
       "      <td>3</td>\n",
       "      <td>2023-06-09</td>\n",
       "      <td>3044.65</td>\n",
       "      <td>1285</td>\n",
       "    </tr>\n",
       "    <tr>\n",
       "      <th>3</th>\n",
       "      <td>4</td>\n",
       "      <td>2021-01-31</td>\n",
       "      <td>4576.87</td>\n",
       "      <td>3897</td>\n",
       "    </tr>\n",
       "    <tr>\n",
       "      <th>4</th>\n",
       "      <td>5</td>\n",
       "      <td>2022-02-09</td>\n",
       "      <td>3429.25</td>\n",
       "      <td>2749</td>\n",
       "    </tr>\n",
       "  </tbody>\n",
       "</table>\n",
       "</div>"
      ],
      "text/plain": [
       "   id_venda  data_venda  total_venda  cliente_id\n",
       "0         1  2021-05-01       167.21        8112\n",
       "1         2  2023-01-12      1315.33          76\n",
       "2         3  2023-06-09      3044.65        1285\n",
       "3         4  2021-01-31      4576.87        3897\n",
       "4         5  2022-02-09      3429.25        2749"
      ]
     },
     "execution_count": 18,
     "metadata": {},
     "output_type": "execute_result"
    }
   ],
   "source": [
    "query = \"\"\"\n",
    "SELECT * FROM vendas\n",
    "\"\"\"\n",
    "\n",
    "df = pd.read_sql_query(query, con = engine)\n",
    "df.head()"
   ]
  },
  {
   "cell_type": "markdown",
   "metadata": {},
   "source": [
    "Aqui temos ``id_venda``, que é a ``PRIMARY-KEY`` desta tabela, junto com a ``data_venda``, que é data da compra.\n",
    "\n",
    "Também temos ``total_venda``, que representa o valor do somatório dos preços dos produtos adquiridos numa mesma compra.\n",
    "\n",
    "Por fim, o ``cliente_id``, que é uma ``FOREIGN-KEY`` da tabela clientes."
   ]
  },
  {
   "cell_type": "code",
   "execution_count": 19,
   "metadata": {},
   "outputs": [
    {
     "name": "stdout",
     "output_type": "stream",
     "text": [
      "<class 'pandas.core.frame.DataFrame'>\n",
      "RangeIndex: 50000 entries, 0 to 49999\n",
      "Data columns (total 4 columns):\n",
      " #   Column       Non-Null Count  Dtype  \n",
      "---  ------       --------------  -----  \n",
      " 0   id_venda     50000 non-null  int64  \n",
      " 1   data_venda   50000 non-null  object \n",
      " 2   total_venda  50000 non-null  float64\n",
      " 3   cliente_id   50000 non-null  int64  \n",
      "dtypes: float64(1), int64(2), object(1)\n",
      "memory usage: 1.5+ MB\n"
     ]
    }
   ],
   "source": [
    "df.info()"
   ]
  },
  {
   "cell_type": "markdown",
   "metadata": {},
   "source": [
    "Não possuimos dados faltantes na tabela de vendas. "
   ]
  },
  {
   "cell_type": "code",
   "execution_count": 20,
   "metadata": {},
   "outputs": [
    {
     "data": {
      "text/plain": [
       "id_venda       0\n",
       "data_venda     0\n",
       "total_venda    0\n",
       "cliente_id     0\n",
       "dtype: int64"
      ]
     },
     "execution_count": 20,
     "metadata": {},
     "output_type": "execute_result"
    }
   ],
   "source": [
    "df.isnull().sum()"
   ]
  },
  {
   "cell_type": "markdown",
   "metadata": {},
   "source": [
    "---"
   ]
  },
  {
   "cell_type": "markdown",
   "metadata": {},
   "source": [
    "### Tabela itens_venda"
   ]
  },
  {
   "cell_type": "code",
   "execution_count": 21,
   "metadata": {},
   "outputs": [
    {
     "data": {
      "text/html": [
       "<div>\n",
       "<style scoped>\n",
       "    .dataframe tbody tr th:only-of-type {\n",
       "        vertical-align: middle;\n",
       "    }\n",
       "\n",
       "    .dataframe tbody tr th {\n",
       "        vertical-align: top;\n",
       "    }\n",
       "\n",
       "    .dataframe thead th {\n",
       "        text-align: right;\n",
       "    }\n",
       "</style>\n",
       "<table border=\"1\" class=\"dataframe\">\n",
       "  <thead>\n",
       "    <tr style=\"text-align: right;\">\n",
       "      <th></th>\n",
       "      <th>venda_id</th>\n",
       "      <th>produto_id</th>\n",
       "    </tr>\n",
       "  </thead>\n",
       "  <tbody>\n",
       "    <tr>\n",
       "      <th>0</th>\n",
       "      <td>1</td>\n",
       "      <td>1510</td>\n",
       "    </tr>\n",
       "    <tr>\n",
       "      <th>1</th>\n",
       "      <td>2</td>\n",
       "      <td>1762</td>\n",
       "    </tr>\n",
       "    <tr>\n",
       "      <th>2</th>\n",
       "      <td>3</td>\n",
       "      <td>6889</td>\n",
       "    </tr>\n",
       "    <tr>\n",
       "      <th>3</th>\n",
       "      <td>3</td>\n",
       "      <td>5477</td>\n",
       "    </tr>\n",
       "    <tr>\n",
       "      <th>4</th>\n",
       "      <td>3</td>\n",
       "      <td>2181</td>\n",
       "    </tr>\n",
       "  </tbody>\n",
       "</table>\n",
       "</div>"
      ],
      "text/plain": [
       "   venda_id  produto_id\n",
       "0         1        1510\n",
       "1         2        1762\n",
       "2         3        6889\n",
       "3         3        5477\n",
       "4         3        2181"
      ]
     },
     "execution_count": 21,
     "metadata": {},
     "output_type": "execute_result"
    }
   ],
   "source": [
    "query = \"\"\"\n",
    "SELECT * FROM itens_venda\n",
    "\"\"\"\n",
    "\n",
    "df = pd.read_sql_query(query, con = engine)\n",
    "df.head()"
   ]
  },
  {
   "cell_type": "markdown",
   "metadata": {},
   "source": [
    "Por fim, a tabela ``itens_venda`` é uma tabela fato, cuja função é relacionar ``venda_id`` a ``produto_id``, informando quais foram os produtos adquiridos em cada venda."
   ]
  },
  {
   "cell_type": "markdown",
   "metadata": {},
   "source": [
    "---"
   ]
  },
  {
   "cell_type": "markdown",
   "metadata": {},
   "source": [
    "#\n",
    "<div style=\"background-color: gray; padding: 10px;\">\n",
    "    <h2> 4. Análise Exploratória\n",
    "</div>"
   ]
  },
  {
   "cell_type": "markdown",
   "metadata": {},
   "source": [
    "(Há espaço pra melhoras nesse texto)\n",
    "\n",
    "A partir da exploração inicial do dataset, podemos definir os objetivos desse projeto que visem gerar insights valiosos ao negócio.\n",
    "\n",
    "- Relacionar quantidade de vendas por Ano/Mes (OK)\n",
    "- Identificar sazonalidades (OK)\n",
    "- Comparar os anos (OK)\n",
    "\n",
    "- Quais marcas e fornecedores tiveram melhor e pior desempenho em termos de volume de vendas. (OK)\n",
    "- Quais categorias tiveram melhor e pior desempenho em termos de volume de vendas. (OK)\n",
    "- Comparar desempenho de fornecedores durante o periodo (OK)\n",
    "- Plotar gráficos fornecedores x periodo (OK)\n",
    "- Plotar gráfico de pizza de categoria x vendas (OK) "
   ]
  },
  {
   "cell_type": "markdown",
   "metadata": {},
   "source": [
    "##\n",
    "<div style=\"background-color: gray; padding: 0px;\">\n",
    "    <h2> 3.1 Sazonalidade das Vendas\n",
    "</div>\n"
   ]
  },
  {
   "cell_type": "code",
   "execution_count": 22,
   "metadata": {},
   "outputs": [
    {
     "data": {
      "text/html": [
       "<div>\n",
       "<style scoped>\n",
       "    .dataframe tbody tr th:only-of-type {\n",
       "        vertical-align: middle;\n",
       "    }\n",
       "\n",
       "    .dataframe tbody tr th {\n",
       "        vertical-align: top;\n",
       "    }\n",
       "\n",
       "    .dataframe thead th {\n",
       "        text-align: right;\n",
       "    }\n",
       "</style>\n",
       "<table border=\"1\" class=\"dataframe\">\n",
       "  <thead>\n",
       "    <tr style=\"text-align: right;\">\n",
       "      <th></th>\n",
       "      <th>ano</th>\n",
       "      <th>mes</th>\n",
       "      <th>ano/mes</th>\n",
       "      <th>qtd_vendas</th>\n",
       "    </tr>\n",
       "  </thead>\n",
       "  <tbody>\n",
       "    <tr>\n",
       "      <th>0</th>\n",
       "      <td>2020</td>\n",
       "      <td>1</td>\n",
       "      <td>2020/01</td>\n",
       "      <td>1070</td>\n",
       "    </tr>\n",
       "    <tr>\n",
       "      <th>1</th>\n",
       "      <td>2020</td>\n",
       "      <td>2</td>\n",
       "      <td>2020/02</td>\n",
       "      <td>537</td>\n",
       "    </tr>\n",
       "    <tr>\n",
       "      <th>2</th>\n",
       "      <td>2020</td>\n",
       "      <td>3</td>\n",
       "      <td>2020/03</td>\n",
       "      <td>549</td>\n",
       "    </tr>\n",
       "    <tr>\n",
       "      <th>3</th>\n",
       "      <td>2020</td>\n",
       "      <td>4</td>\n",
       "      <td>2020/04</td>\n",
       "      <td>554</td>\n",
       "    </tr>\n",
       "    <tr>\n",
       "      <th>4</th>\n",
       "      <td>2020</td>\n",
       "      <td>5</td>\n",
       "      <td>2020/05</td>\n",
       "      <td>877</td>\n",
       "    </tr>\n",
       "  </tbody>\n",
       "</table>\n",
       "</div>"
      ],
      "text/plain": [
       "    ano  mes  ano/mes  qtd_vendas\n",
       "0  2020    1  2020/01        1070\n",
       "1  2020    2  2020/02         537\n",
       "2  2020    3  2020/03         549\n",
       "3  2020    4  2020/04         554\n",
       "4  2020    5  2020/05         877"
      ]
     },
     "execution_count": 22,
     "metadata": {},
     "output_type": "execute_result"
    }
   ],
   "source": [
    "query = \"\"\"\n",
    "SELECT \n",
    "CAST(EXTRACT(year FROM data_venda) AS INTEGER) AS Ano, \n",
    "CAST(EXTRACT(month FROM data_venda) AS INTEGER) AS Mes,\n",
    "TO_CHAR(data_venda, 'YYYY/MM') AS \"ano/mes\",\n",
    "COUNT(*) as qtd_vendas\n",
    "FROM vendas\n",
    "GROUP BY 1, 2, 3\n",
    "ORDER BY ano, mes\n",
    "\"\"\"\n",
    "\n",
    "df = pd.read_sql_query(query, con = engine)\n",
    "df.head()"
   ]
  },
  {
   "cell_type": "code",
   "execution_count": 23,
   "metadata": {},
   "outputs": [
    {
     "data": {
      "image/png": "[encoded data removed]",
      "text/plain": [
       "<Figure size 1000x400 with 1 Axes>"
      ]
     },
     "metadata": {},
     "output_type": "display_data"
    }
   ],
   "source": [
    "def grafico_vendas():\n",
    "    sns.set_theme(style=\"darkgrid\")\n",
    "    plt.figure(figsize=(10, 4))\n",
    "    sns.lineplot(df, x=\"mes\", y=\"qtd_vendas\", hue=\"ano\", marker=\"o\", palette=\"Set2\")\n",
    "    plt.xlabel(\"\")\n",
    "    plt.ylabel(\"Quantidade de Vendas\")\n",
    "    plt.title(\"Vendas x Mês (Agrupado por Ano)\")\n",
    "    plt.xticks(range(1, 13), ['jan', ' fev', 'mar', 'abr', 'maio', 'jun', 'jul','ago', 'set', 'out', 'nov', 'dez'], fontsize=12)\n",
    "    plt.yticks(np.arange(500, 3250, 250))\n",
    "    plt.legend(title=\"Ano\")\n",
    "    return plt.show()\n",
    "grafico_vendas()"
   ]
  },
  {
   "cell_type": "markdown",
   "metadata": {},
   "source": [
    "Buscando entender o comportamento dos clientes ao longo do ano, através deste gráfico conseguimos observar uma tendência de compra nos mêses de ``Janeiro``, ``Maio``, ``Novembro`` e ``Dezembro``."
   ]
  },
  {
   "cell_type": "code",
   "execution_count": 24,
   "metadata": {},
   "outputs": [],
   "source": [
    "query = \"\"\"\n",
    "WITH periodo AS (\n",
    "    SELECT \n",
    "    CAST(EXTRACT(year FROM data_venda) AS INTEGER) AS Ano, \n",
    "    CAST(EXTRACT(month FROM data_venda) AS INTEGER) AS Mes,\n",
    "    TO_CHAR(data_venda, 'YYYY/MM') AS \"ano/mes\",\n",
    "    COUNT(*) as qtd_vendas\n",
    "    FROM vendas\n",
    "    GROUP BY 1, 2, 3\n",
    "    ORDER BY ano, mes\n",
    ")\n",
    "\n",
    "SELECT * FROM periodo\n",
    "WHERE ano IN (2022,2023)\n",
    "\"\"\"\n",
    "\n",
    "df = pd.read_sql_query(query, con = engine)"
   ]
  },
  {
   "cell_type": "code",
   "execution_count": 25,
   "metadata": {},
   "outputs": [
    {
     "data": {
      "image/png": "[encoded data removed]",
      "text/plain": [
       "<Figure size 1000x400 with 1 Axes>"
      ]
     },
     "metadata": {},
     "output_type": "display_data"
    }
   ],
   "source": [
    "grafico_vendas()"
   ]
  },
  {
   "cell_type": "markdown",
   "metadata": {},
   "source": [
    "Também conseguimos analisar que o ano de 2023, em vendas, performou pior quando comparado ao ano anterior (2022) por mais que ainda não possuímos dados sobre Novembro e Dezembro de 2023.\n",
    "\n",
    "Para melhorar nossos resultados devemos analisar todos fatores internos e externos, começando com a nossa relaçao de vendas por categoria de produto, para descobrir quais categorias devemos evitar ou dar mais ênfase nos mêses 11 e 12."
   ]
  },
  {
   "cell_type": "markdown",
   "metadata": {},
   "source": [
    "##\n",
    "<div style=\"background-color: gray; padding: 0px;\">\n",
    "    <h2> 4.1 Performance das Vendas\n",
    "</div>\n",
    "                 "
   ]
  },
  {
   "cell_type": "markdown",
   "metadata": {},
   "source": [
    "### Desempenho de Vendas das Categorias"
   ]
  },
  {
   "cell_type": "code",
   "execution_count": 165,
   "metadata": {},
   "outputs": [
    {
     "data": {
      "text/html": [
       "<div>\n",
       "<style scoped>\n",
       "    .dataframe tbody tr th:only-of-type {\n",
       "        vertical-align: middle;\n",
       "    }\n",
       "\n",
       "    .dataframe tbody tr th {\n",
       "        vertical-align: top;\n",
       "    }\n",
       "\n",
       "    .dataframe thead th {\n",
       "        text-align: right;\n",
       "    }\n",
       "</style>\n",
       "<table border=\"1\" class=\"dataframe\">\n",
       "  <thead>\n",
       "    <tr style=\"text-align: right;\">\n",
       "      <th></th>\n",
       "      <th>id_categoria</th>\n",
       "      <th>nome_categoria</th>\n",
       "      <th>total_de_vendas_categoria</th>\n",
       "      <th>percentual_vendas_categoria</th>\n",
       "    </tr>\n",
       "  </thead>\n",
       "  <tbody>\n",
       "    <tr>\n",
       "      <th>0</th>\n",
       "      <td>1</td>\n",
       "      <td>Eletrônicos</td>\n",
       "      <td>43446</td>\n",
       "      <td>28.96</td>\n",
       "    </tr>\n",
       "    <tr>\n",
       "      <th>1</th>\n",
       "      <td>2</td>\n",
       "      <td>Vestuário</td>\n",
       "      <td>41274</td>\n",
       "      <td>27.51</td>\n",
       "    </tr>\n",
       "    <tr>\n",
       "      <th>2</th>\n",
       "      <td>3</td>\n",
       "      <td>Alimentos</td>\n",
       "      <td>21922</td>\n",
       "      <td>14.61</td>\n",
       "    </tr>\n",
       "    <tr>\n",
       "      <th>3</th>\n",
       "      <td>5</td>\n",
       "      <td>Esportes</td>\n",
       "      <td>21782</td>\n",
       "      <td>14.52</td>\n",
       "    </tr>\n",
       "    <tr>\n",
       "      <th>4</th>\n",
       "      <td>4</td>\n",
       "      <td>Livros</td>\n",
       "      <td>21610</td>\n",
       "      <td>14.40</td>\n",
       "    </tr>\n",
       "  </tbody>\n",
       "</table>\n",
       "</div>"
      ],
      "text/plain": [
       "   id_categoria nome_categoria  total_de_vendas_categoria  \\\n",
       "0             1    Eletrônicos                      43446   \n",
       "1             2      Vestuário                      41274   \n",
       "2             3      Alimentos                      21922   \n",
       "3             5       Esportes                      21782   \n",
       "4             4         Livros                      21610   \n",
       "\n",
       "   percentual_vendas_categoria  \n",
       "0                        28.96  \n",
       "1                        27.51  \n",
       "2                        14.61  \n",
       "3                        14.52  \n",
       "4                        14.40  "
      ]
     },
     "execution_count": 165,
     "metadata": {},
     "output_type": "execute_result"
    }
   ],
   "source": [
    "query = \"\"\"\n",
    "WITH total_vendas AS (\n",
    "    SELECT COUNT(venda_id) AS total_vendas_geral FROM itens_venda\n",
    "    )\n",
    "\n",
    "SELECT \n",
    "    c.id_categoria,\n",
    "    c.nome_categoria,\n",
    "    COUNT(it.venda_id) AS total_de_vendas_categoria,\n",
    "    ROUND((COUNT(it.venda_id) * 100.0) / total_vendas.total_vendas_geral, 2) AS percentual_vendas_categoria\n",
    "FROM \n",
    "    itens_venda AS it\n",
    "LEFT JOIN \n",
    "    produtos AS p ON p.id_produto = it.produto_id\n",
    "LEFT JOIN \n",
    "    categorias AS c ON c.id_categoria = p.categoria_id\n",
    "CROSS JOIN \n",
    "    total_vendas\n",
    "GROUP BY \n",
    "    c.id_categoria, c.nome_categoria, total_vendas.total_vendas_geral\n",
    "ORDER BY \n",
    "    total_de_vendas_categoria DESC;\n",
    "\"\"\"\n",
    "\n",
    "df = pd.read_sql_query(query, con=engine)\n",
    "df"
   ]
  },
  {
   "cell_type": "markdown",
   "metadata": {},
   "source": [
    "A consulta nos informa, em valores absolutos e percentuais de volumes de vendas, que a categoria `mais vendida` é a de `Eletrônicos`, enquanto a `menos vendida` é a de `Livros`."
   ]
  },
  {
   "cell_type": "code",
   "execution_count": 166,
   "metadata": {},
   "outputs": [
    {
     "data": {
      "image/png": "[encoded data removed]",
      "text/plain": [
       "<Figure size 1000x600 with 1 Axes>"
      ]
     },
     "metadata": {},
     "output_type": "display_data"
    }
   ],
   "source": [
    "plt.figure(figsize=(10, 6))\n",
    "colors = sns.color_palette('Set2')[0:5]\n",
    "plt.pie(df['total_de_vendas_categoria'], labels=df['nome_categoria'], colors = colors, autopct='%1.1f%%')\n",
    "plt.title('Percentual de Vendas por Categoria', fontsize=16)\n",
    "plt.show()"
   ]
  },
  {
   "cell_type": "markdown",
   "metadata": {},
   "source": [
    "A partir deste gráfico, percebemos que as categorias de `Eletrônicos` e `Vestuário` representam `mais de 50%` de todas as vendas."
   ]
  },
  {
   "cell_type": "markdown",
   "metadata": {},
   "source": [
    "### Desempenho de Vendas das Marcas"
   ]
  },
  {
   "cell_type": "code",
   "execution_count": 163,
   "metadata": {},
   "outputs": [
    {
     "data": {
      "text/html": [
       "<div>\n",
       "<style scoped>\n",
       "    .dataframe tbody tr th:only-of-type {\n",
       "        vertical-align: middle;\n",
       "    }\n",
       "\n",
       "    .dataframe tbody tr th {\n",
       "        vertical-align: top;\n",
       "    }\n",
       "\n",
       "    .dataframe thead th {\n",
       "        text-align: right;\n",
       "    }\n",
       "</style>\n",
       "<table border=\"1\" class=\"dataframe\">\n",
       "  <thead>\n",
       "    <tr style=\"text-align: right;\">\n",
       "      <th></th>\n",
       "      <th>id_marca</th>\n",
       "      <th>nome</th>\n",
       "      <th>total_de_vendas_marca</th>\n",
       "      <th>percentual_vendas_marca</th>\n",
       "    </tr>\n",
       "  </thead>\n",
       "  <tbody>\n",
       "    <tr>\n",
       "      <th>0</th>\n",
       "      <td>1</td>\n",
       "      <td>BluePeak</td>\n",
       "      <td>32059</td>\n",
       "      <td>21.37</td>\n",
       "    </tr>\n",
       "    <tr>\n",
       "      <th>1</th>\n",
       "      <td>3</td>\n",
       "      <td>SolarFlare</td>\n",
       "      <td>22012</td>\n",
       "      <td>14.67</td>\n",
       "    </tr>\n",
       "    <tr>\n",
       "      <th>2</th>\n",
       "      <td>2</td>\n",
       "      <td>ZenithWave</td>\n",
       "      <td>21762</td>\n",
       "      <td>14.50</td>\n",
       "    </tr>\n",
       "    <tr>\n",
       "      <th>3</th>\n",
       "      <td>7</td>\n",
       "      <td>GreenPulse</td>\n",
       "      <td>10902</td>\n",
       "      <td>7.27</td>\n",
       "    </tr>\n",
       "    <tr>\n",
       "      <th>4</th>\n",
       "      <td>6</td>\n",
       "      <td>NovaSphere</td>\n",
       "      <td>10796</td>\n",
       "      <td>7.20</td>\n",
       "    </tr>\n",
       "    <tr>\n",
       "      <th>5</th>\n",
       "      <td>4</td>\n",
       "      <td>EchoBloom</td>\n",
       "      <td>10785</td>\n",
       "      <td>7.19</td>\n",
       "    </tr>\n",
       "    <tr>\n",
       "      <th>6</th>\n",
       "      <td>5</td>\n",
       "      <td>CrystalCrest</td>\n",
       "      <td>10714</td>\n",
       "      <td>7.14</td>\n",
       "    </tr>\n",
       "    <tr>\n",
       "      <th>7</th>\n",
       "      <td>8</td>\n",
       "      <td>SilverStream</td>\n",
       "      <td>10627</td>\n",
       "      <td>7.08</td>\n",
       "    </tr>\n",
       "    <tr>\n",
       "      <th>8</th>\n",
       "      <td>10</td>\n",
       "      <td>InfinityAura</td>\n",
       "      <td>10483</td>\n",
       "      <td>6.99</td>\n",
       "    </tr>\n",
       "    <tr>\n",
       "      <th>9</th>\n",
       "      <td>9</td>\n",
       "      <td>AmberField</td>\n",
       "      <td>9894</td>\n",
       "      <td>6.59</td>\n",
       "    </tr>\n",
       "  </tbody>\n",
       "</table>\n",
       "</div>"
      ],
      "text/plain": [
       "   id_marca          nome  total_de_vendas_marca  percentual_vendas_marca\n",
       "0         1      BluePeak                  32059                    21.37\n",
       "1         3    SolarFlare                  22012                    14.67\n",
       "2         2    ZenithWave                  21762                    14.50\n",
       "3         7    GreenPulse                  10902                     7.27\n",
       "4         6    NovaSphere                  10796                     7.20\n",
       "5         4     EchoBloom                  10785                     7.19\n",
       "6         5  CrystalCrest                  10714                     7.14\n",
       "7         8  SilverStream                  10627                     7.08\n",
       "8        10  InfinityAura                  10483                     6.99\n",
       "9         9    AmberField                   9894                     6.59"
      ]
     },
     "execution_count": 163,
     "metadata": {},
     "output_type": "execute_result"
    }
   ],
   "source": [
    "query = \"\"\"\n",
    "WITH total_vendas AS (\n",
    "    SELECT COUNT(venda_id) AS total_vendas_geral FROM itens_venda\n",
    "    )\n",
    "\n",
    "SELECT \n",
    "    m.id_marca,\n",
    "    m.nome,\n",
    "    COUNT(it.venda_id) AS total_de_vendas_marca,\n",
    "    ROUND((COUNT(it.venda_id) * 100.0) / total_vendas.total_vendas_geral, 2) AS percentual_vendas_marca\n",
    "FROM \n",
    "    itens_venda AS it\n",
    "LEFT JOIN \n",
    "    produtos AS p ON p.id_produto = it.produto_id\n",
    "LEFT JOIN \n",
    "    marcas AS m ON m.id_marca = p.marca_id\n",
    "CROSS JOIN \n",
    "    total_vendas\n",
    "GROUP BY \n",
    "    m.id_marca, m.nome, total_vendas.total_vendas_geral\n",
    "ORDER BY \n",
    "    total_de_vendas_marca DESC;\n",
    "\"\"\"\n",
    "\n",
    "df = pd.read_sql_query(query, con=engine)\n",
    "df"
   ]
  },
  {
   "cell_type": "markdown",
   "metadata": {},
   "source": [
    "A consulta nos informa, em valores absolutos e percentuais de volumes de vendas, que a marca `mais vendida` é a de `BluePeak`, enquanto a `menos vendida` é a de `AmberField`."
   ]
  },
  {
   "cell_type": "code",
   "execution_count": 164,
   "metadata": {},
   "outputs": [
    {
     "data": {
      "image/png": "[encoded data removed]",
      "text/plain": [
       "<Figure size 1000x400 with 1 Axes>"
      ]
     },
     "metadata": {},
     "output_type": "display_data"
    }
   ],
   "source": [
    "sns.set_theme(style=\"darkgrid\")\n",
    "plt.figure(figsize=(10, 4))\n",
    "sns.barplot(df, x=\"total_de_vendas_marca\", hue='nome',y=\"nome\", palette=\"Set2\")\n",
    "plt.xlabel(\"\")\n",
    "plt.ylabel(\"\")\n",
    "plt.title(\"Marcas x Vendas\", fontsize=16)\n",
    "plt.show()"
   ]
  },
  {
   "cell_type": "markdown",
   "metadata": {},
   "source": [
    "A partir desse gráfico, percebemos que as marcas `BluePeak`, `SolarFlare` e `ZeinithWave` são as que mais representam em total de vendas."
   ]
  },
  {
   "cell_type": "markdown",
   "metadata": {},
   "source": [
    "### Desempenho de Vendas dos Fornecedores"
   ]
  },
  {
   "cell_type": "code",
   "execution_count": 130,
   "metadata": {},
   "outputs": [
    {
     "data": {
      "text/html": [
       "<div>\n",
       "<style scoped>\n",
       "    .dataframe tbody tr th:only-of-type {\n",
       "        vertical-align: middle;\n",
       "    }\n",
       "\n",
       "    .dataframe tbody tr th {\n",
       "        vertical-align: top;\n",
       "    }\n",
       "\n",
       "    .dataframe thead th {\n",
       "        text-align: right;\n",
       "    }\n",
       "</style>\n",
       "<table border=\"1\" class=\"dataframe\">\n",
       "  <thead>\n",
       "    <tr style=\"text-align: right;\">\n",
       "      <th></th>\n",
       "      <th>id_fornecedor</th>\n",
       "      <th>nome</th>\n",
       "      <th>total_de_vendas_fornecedor</th>\n",
       "      <th>percentual_vendas_fornecedor</th>\n",
       "    </tr>\n",
       "  </thead>\n",
       "  <tbody>\n",
       "    <tr>\n",
       "      <th>0</th>\n",
       "      <td>2</td>\n",
       "      <td>HorizonDistributors</td>\n",
       "      <td>28062</td>\n",
       "      <td>18.70</td>\n",
       "    </tr>\n",
       "    <tr>\n",
       "      <th>1</th>\n",
       "      <td>1</td>\n",
       "      <td>AstroSupply</td>\n",
       "      <td>28022</td>\n",
       "      <td>18.68</td>\n",
       "    </tr>\n",
       "    <tr>\n",
       "      <th>2</th>\n",
       "      <td>4</td>\n",
       "      <td>CosmicConnections</td>\n",
       "      <td>19179</td>\n",
       "      <td>12.78</td>\n",
       "    </tr>\n",
       "    <tr>\n",
       "      <th>3</th>\n",
       "      <td>3</td>\n",
       "      <td>EchoLogistics</td>\n",
       "      <td>19080</td>\n",
       "      <td>12.72</td>\n",
       "    </tr>\n",
       "    <tr>\n",
       "      <th>4</th>\n",
       "      <td>10</td>\n",
       "      <td>InfinityImports</td>\n",
       "      <td>9955</td>\n",
       "      <td>6.64</td>\n",
       "    </tr>\n",
       "    <tr>\n",
       "      <th>5</th>\n",
       "      <td>6</td>\n",
       "      <td>PinnaclePartners</td>\n",
       "      <td>9419</td>\n",
       "      <td>6.28</td>\n",
       "    </tr>\n",
       "    <tr>\n",
       "      <th>6</th>\n",
       "      <td>5</td>\n",
       "      <td>TerraTrade</td>\n",
       "      <td>9206</td>\n",
       "      <td>6.14</td>\n",
       "    </tr>\n",
       "    <tr>\n",
       "      <th>7</th>\n",
       "      <td>9</td>\n",
       "      <td>SummitSolutions</td>\n",
       "      <td>9175</td>\n",
       "      <td>6.12</td>\n",
       "    </tr>\n",
       "    <tr>\n",
       "      <th>8</th>\n",
       "      <td>7</td>\n",
       "      <td>NebulaNetworks</td>\n",
       "      <td>9020</td>\n",
       "      <td>6.01</td>\n",
       "    </tr>\n",
       "    <tr>\n",
       "      <th>9</th>\n",
       "      <td>8</td>\n",
       "      <td>OceanicOrigins</td>\n",
       "      <td>8916</td>\n",
       "      <td>5.94</td>\n",
       "    </tr>\n",
       "  </tbody>\n",
       "</table>\n",
       "</div>"
      ],
      "text/plain": [
       "   id_fornecedor                 nome  total_de_vendas_fornecedor  \\\n",
       "0              2  HorizonDistributors                       28062   \n",
       "1              1          AstroSupply                       28022   \n",
       "2              4    CosmicConnections                       19179   \n",
       "3              3        EchoLogistics                       19080   \n",
       "4             10      InfinityImports                        9955   \n",
       "5              6     PinnaclePartners                        9419   \n",
       "6              5           TerraTrade                        9206   \n",
       "7              9      SummitSolutions                        9175   \n",
       "8              7       NebulaNetworks                        9020   \n",
       "9              8       OceanicOrigins                        8916   \n",
       "\n",
       "   percentual_vendas_fornecedor  \n",
       "0                         18.70  \n",
       "1                         18.68  \n",
       "2                         12.78  \n",
       "3                         12.72  \n",
       "4                          6.64  \n",
       "5                          6.28  \n",
       "6                          6.14  \n",
       "7                          6.12  \n",
       "8                          6.01  \n",
       "9                          5.94  "
      ]
     },
     "execution_count": 130,
     "metadata": {},
     "output_type": "execute_result"
    }
   ],
   "source": [
    "query = \"\"\"\n",
    "WITH total_vendas AS (\n",
    "    SELECT COUNT(venda_id) AS total_vendas_geral FROM itens_venda\n",
    "    )\n",
    "\n",
    "SELECT \n",
    "    f.id_fornecedor,\n",
    "    f.nome,\n",
    "    COUNT(it.venda_id) AS total_de_vendas_fornecedor,\n",
    "    ROUND((COUNT(it.venda_id) * 100.0) / total_vendas.total_vendas_geral, 2) AS percentual_vendas_fornecedor\n",
    "FROM \n",
    "    itens_venda AS it\n",
    "LEFT JOIN \n",
    "    produtos AS p ON p.id_produto = it.produto_id\n",
    "LEFT JOIN \n",
    "    fornecedores AS f ON f.id_fornecedor = p.fornecedor_id\n",
    "CROSS JOIN \n",
    "    total_vendas\n",
    "GROUP BY \n",
    "    f.id_fornecedor, f.nome, total_vendas.total_vendas_geral\n",
    "ORDER BY \n",
    "    percentual_vendas_fornecedor DESC;\n",
    "\"\"\"\n",
    "\n",
    "df = pd.read_sql_query(query, con=engine)\n",
    "df"
   ]
  },
  {
   "cell_type": "markdown",
   "metadata": {},
   "source": [
    "A consulta nos informa, em valores absolutos e percentuais de volumes de vendas, que as marcas `mais vendidas` são a `HorizonDistributors` e `AstroSupply`, enquanto as `menos vendidas` são a `NebulaNetworks` e `OceanicOrigins`."
   ]
  },
  {
   "cell_type": "code",
   "execution_count": 132,
   "metadata": {},
   "outputs": [],
   "source": [
    "query = \"\"\"\n",
    "SELECT \n",
    "    CAST(EXTRACT(year FROM data_venda) AS INTEGER) AS Ano,\n",
    "    CAST(EXTRACT(month FROM data_venda) AS INTEGER) AS Mes, \n",
    "    TO_CHAR(data_venda, 'YYYY/MM') AS \"ano/mes\",\n",
    "    f.nome,\n",
    "    COUNT(iv.venda_id) AS qtd_vendas\n",
    "FROM \n",
    "    itens_venda AS iv\n",
    "JOIN \n",
    "    vendas AS v ON v.id_venda = iv.venda_id\n",
    "JOIN \n",
    "    produtos AS p ON p.id_produto = iv.produto_id\n",
    "JOIN \n",
    "    fornecedores AS f ON f.id_fornecedor = p.fornecedor_id\n",
    "WHERE \n",
    "    f.nome IN ('HorizonDistributors', 'AstroSupply', 'NebulaNetworks', 'OceanicOrigins')\n",
    "GROUP BY \n",
    "    4, 3, 2, 1\n",
    "ORDER BY \n",
    "    Ano, Mes , \"ano/mes\"\n",
    "\"\"\"\n",
    "\n",
    "query_2 = f\"\"\"\n",
    "SELECT *\n",
    "FROM ({query})\n",
    "WHERE mes = 1\n",
    "\"\"\"\n",
    "\n",
    "df = pd.read_sql_query(query, con = engine)\n",
    "df_mes = pd.read_sql_query(query_2, con = engine)"
   ]
  },
  {
   "cell_type": "code",
   "execution_count": 133,
   "metadata": {},
   "outputs": [
    {
     "data": {
      "image/png": "[encoded data removed]",
      "text/plain": [
       "<Figure size 1000x600 with 1 Axes>"
      ]
     },
     "metadata": {},
     "output_type": "display_data"
    }
   ],
   "source": [
    "sns.set_theme(style=\"darkgrid\")\n",
    "plt.figure(figsize=(10, 6))\n",
    "sns.lineplot(df, x=\"ano/mes\", y=\"qtd_vendas\", hue=\"nome\", palette=\"Set2\")\n",
    "plt.xticks(ticks=df_mes['ano/mes'])\n",
    "plt.xlabel(\"\")\n",
    "plt.ylabel(\"Quantidade de Vendas\")\n",
    "plt.title(\"Vendas x Fornecedor\")\n",
    "plt.legend(title=\"Ano\")\n",
    "plt.show()"
   ]
  }
 ],
 "metadata": {
  "kernelspec": {
   "display_name": "Python 3",
   "language": "python",
   "name": "python3"
  },
  "language_info": {
   "codemirror_mode": {
    "name": "ipython",
    "version": 3
   },
   "file_extension": ".py",
   "mimetype": "text/x-python",
   "name": "python",
   "nbconvert_exporter": "python",
   "pygments_lexer": "ipython3",
   "version": "3.12.2"
  }
 },
 "nbformat": 4,
 "nbformat_minor": 2
}
